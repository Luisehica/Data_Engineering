{
 "cells": [
  {
   "cell_type": "markdown",
   "metadata": {},
   "source": [
    "## Series"
   ]
  },
  {
   "cell_type": "code",
   "execution_count": 1,
   "metadata": {},
   "outputs": [
    {
     "name": "stdout",
     "output_type": "stream",
     "text": [
      "0    100\n",
      "1    200\n",
      "2    300\n",
      "dtype: int64\n"
     ]
    }
   ],
   "source": [
    "import pandas as pd\n",
    "\n",
    "series_test = pd.Series([100, 200, 300])\n",
    "\n",
    "print(series_test)"
   ]
  },
  {
   "cell_type": "code",
   "execution_count": 3,
   "metadata": {},
   "outputs": [
    {
     "name": "stdout",
     "output_type": "stream",
     "text": [
      "1999    48\n",
      "2000    65\n",
      "2001    89\n",
      "dtype: int64\n"
     ]
    }
   ],
   "source": [
    "series_test2 = pd.Series({1999: 48,\n",
    "                          2000: 65,\n",
    "                          2001: 89})\n",
    "print(series_test2)"
   ]
  },
  {
   "cell_type": "markdown",
   "metadata": {},
   "source": [
    "## Data Frame"
   ]
  },
  {
   "cell_type": "code",
   "execution_count": 4,
   "metadata": {},
   "outputs": [
    {
     "name": "stdout",
     "output_type": "stream",
     "text": [
      "   1999  2000  2001\n",
      "0    74    34    23\n",
      "1    38    32    39\n",
      "2    39    32    23\n"
     ]
    }
   ],
   "source": [
    "frame_test = pd.DataFrame({1999: [74, 38, 39], \n",
    "                           2000: [34, 32, 32], \n",
    "                           2001: [23, 39,23]})\n",
    "\n",
    "print(frame_test)"
   ]
  },
  {
   "cell_type": "code",
   "execution_count": 5,
   "metadata": {},
   "outputs": [
    {
     "name": "stdout",
     "output_type": "stream",
     "text": [
      "   1999  2000  2001\n",
      "0    74    38    39\n",
      "1    34    32    32\n",
      "2    23    39    23\n"
     ]
    }
   ],
   "source": [
    "frame_test2 = pd.DataFrame([[74, 38, 39], \n",
    "                            [34, 32, 32], \n",
    "                            [23, 39,23]], columns= [1999, 2000, 2001])\n",
    "print(frame_test2)"
   ]
  },
  {
   "cell_type": "code",
   "execution_count": null,
   "metadata": {},
   "outputs": [],
   "source": [
    "es_universal = pd.read_csv('web_scraping/eluniversal_2020_08_03_articles.csv')"
   ]
  }
 ],
 "metadata": {
  "kernelspec": {
   "display_name": "Python 3",
   "language": "python",
   "name": "python3"
  },
  "language_info": {
   "codemirror_mode": {
    "name": "ipython",
    "version": 3
   },
   "file_extension": ".py",
   "mimetype": "text/x-python",
   "name": "python",
   "nbconvert_exporter": "python",
   "pygments_lexer": "ipython3",
   "version": "3.7.6"
  }
 },
 "nbformat": 4,
 "nbformat_minor": 4
}

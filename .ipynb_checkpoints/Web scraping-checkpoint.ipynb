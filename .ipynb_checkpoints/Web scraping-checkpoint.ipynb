{
 "cells": [
  {
   "cell_type": "code",
   "execution_count": 1,
   "metadata": {},
   "outputs": [],
   "source": [
    "import requests\n",
    "import pandas as pd"
   ]
  },
  {
   "cell_type": "markdown",
   "metadata": {},
   "source": [
    "# Solicitudes a la web"
   ]
  },
  {
   "cell_type": "code",
   "execution_count": 2,
   "metadata": {},
   "outputs": [
    {
     "name": "stdout",
     "output_type": "stream",
     "text": [
      "200\n"
     ]
    }
   ],
   "source": [
    "response = requests.get('https://www.losirreverentes.com/category/articulos/')\n",
    "print(response.status_code)"
   ]
  },
  {
   "cell_type": "code",
   "execution_count": 3,
   "metadata": {},
   "outputs": [
    {
     "data": {
      "text/plain": [
       "{'Server': 'openresty', 'Date': 'Wed, 12 Aug 2020 20:30:14 GMT', 'Content-Type': 'text/html; charset=UTF-8', 'Content-Length': '19049', 'Connection': 'keep-alive', 'Set-Cookie': 'apbct_timestamp=1597264212; path=/; HttpOnly; SameSite=Lax, apbct_site_landing_ts=1597264212; path=/; HttpOnly; SameSite=Lax, apbct_page_hits=1; path=/; HttpOnly; SameSite=Lax, apbct_cookies_test=%257B%2522cookies_names%2522%253A%255B%2522apbct_timestamp%2522%252C%2522apbct_site_landing_ts%2522%252C%2522apbct_page_hits%2522%255D%252C%2522check_value%2522%253A%25223f4fa2904fafa17f8ae0f043bca73255%2522%257D; path=/; HttpOnly; SameSite=Lax, ct_sfw_pass_key=7a476dcdc5a7b2d03c8b6b005a3949c8; expires=Fri, 11-Sep-2020 20:30:12 GMT; Max-Age=2592000; path=/; SameSite=Lax', 'Content-Security-Policy': 'upgrade-insecure-requests', 'Content-Encoding': 'gzip', 'X-XSS-Protection': '1; mode=block', 'X-Content-Type-Options': 'nosniff', 'Strict-Transport-Security': 'max-age=300, max-age=31536000; includeSubDomains', 'X-Cacheable': 'YES:Forced', 'Accept-Ranges': 'bytes', 'Age': '0', 'Vary': 'Accept-Encoding, User-Agent', 'X-Cache': 'uncached', 'X-Cache-Hit': 'MISS', 'X-Backend': 'all_requests'}"
      ]
     },
     "execution_count": 3,
     "metadata": {},
     "output_type": "execute_result"
    }
   ],
   "source": [
    "response.headers"
   ]
  },
  {
   "cell_type": "code",
   "execution_count": 4,
   "metadata": {},
   "outputs": [
    {
     "data": {
      "text/plain": [
       "{'User-Agent': 'python-requests/2.22.0', 'Accept-Encoding': 'gzip, deflate', 'Accept': '*/*', 'Connection': 'keep-alive'}"
      ]
     },
     "execution_count": 4,
     "metadata": {},
     "output_type": "execute_result"
    }
   ],
   "source": [
    "response.request.headers "
   ]
  },
  {
   "cell_type": "markdown",
   "metadata": {},
   "source": [
    "## Header del request\n",
    "\n",
    "Al hacer el request desde python el servidor sabe que se esta accediendo desde un programa automatizado, sin embargo extiste maneras de ocultar este header"
   ]
  },
  {
   "cell_type": "code",
   "execution_count": 5,
   "metadata": {},
   "outputs": [
    {
     "data": {
      "text/plain": [
       "'GET'"
      ]
     },
     "execution_count": 5,
     "metadata": {},
     "output_type": "execute_result"
    }
   ],
   "source": [
    "response.request.method"
   ]
  },
  {
   "cell_type": "markdown",
   "metadata": {},
   "source": [
    "# Extracción del HTML"
   ]
  },
  {
   "cell_type": "code",
   "execution_count": 6,
   "metadata": {},
   "outputs": [],
   "source": [
    "from bs4 import BeautifulSoup"
   ]
  },
  {
   "cell_type": "code",
   "execution_count": 7,
   "metadata": {},
   "outputs": [],
   "source": [
    "soup = BeautifulSoup(response.text, 'lxml')"
   ]
  },
  {
   "cell_type": "code",
   "execution_count": 8,
   "metadata": {},
   "outputs": [
    {
     "name": "stdout",
     "output_type": "stream",
     "text": [
      "[<div class=\"header\">\n",
      "<a class=\"featured-image\" href=\"https://www.losirreverentes.com/la-chuzada-contra-el-presidente-uribe/\" title=\"La chuzada contra el presidente Uribe\">\n",
      "<img alt=\"La chuzada contra el presidente Uribe\" src=\"https://secureservercdn.net/198.71.233.17/cf8.826.myftpupload.com/wp-content/uploads/2020/08/Alvaro-Uribe-chuzadas.jpg\"/><span class=\"et_pb_extra_overlay\"></span>\n",
      "</a> </div>, <div class=\"header\">\n",
      "<a class=\"featured-image\" href=\"https://www.losirreverentes.com/por-falta-de-garantias-presidente-uribe-no-presenta-recurso-de-reposicion/\" title=\"Por falta de garantías, presidente Uribe no presenta recurso de reposición\">\n",
      "<img alt=\"Por falta de garantías, presidente Uribe no presenta recurso de reposición\" src=\"https://secureservercdn.net/198.71.233.17/cf8.826.myftpupload.com/wp-content/uploads/2020/08/Uribe-reposicion.jpg\"/><span class=\"et_pb_extra_overlay\"></span>\n",
      "</a> </div>, <div class=\"header\">\n",
      "<a class=\"featured-image\" href=\"https://www.losirreverentes.com/el-asedio/\" title=\"El asedio\">\n",
      "<img alt=\"El asedio\" src=\"https://secureservercdn.net/198.71.233.17/cf8.826.myftpupload.com/wp-content/uploads/2020/08/Asedio-.jpg\"/><span class=\"et_pb_extra_overlay\"></span>\n",
      "</a> </div>, <div class=\"header\">\n",
      "<a class=\"featured-image\" href=\"https://www.losirreverentes.com/el-secuestro-de-uribe/\" title=\"El secuestro de Uribe\">\n",
      "<img alt=\"El secuestro de Uribe\" src=\"https://secureservercdn.net/198.71.233.17/cf8.826.myftpupload.com/wp-content/uploads/2020/08/Uribe.jpg\"/><span class=\"et_pb_extra_overlay\"></span>\n",
      "</a> </div>, <div class=\"header\">\n",
      "<a class=\"featured-image\" href=\"https://www.losirreverentes.com/consejo-de-estado-le-quitaria-5-curules-al-partido-verde/\" title=\"Consejo de Estado le quitaría 5 curules al Partido Verde\">\n",
      "<img alt=\"Consejo de Estado le quitaría 5 curules al Partido Verde\" src=\"https://secureservercdn.net/198.71.233.17/cf8.826.myftpupload.com/wp-content/uploads/2020/08/Partido-Verde-curules.jpg\"/><span class=\"et_pb_extra_overlay\"></span>\n",
      "</a> </div>, <div class=\"header\">\n",
      "<a class=\"featured-image\" href=\"https://www.losirreverentes.com/por-que-la-corte-nunca-quiso-oir-al-tuso-sierra/\" title=\"¿Por qué la corte nunca quiso oír al “Tuso” Sierra?\">\n",
      "<img alt=\"¿Por qué la corte nunca quiso oír al “Tuso” Sierra?\" src=\"https://secureservercdn.net/198.71.233.17/cf8.826.myftpupload.com/wp-content/uploads/2020/08/Juan-Carlos-El-Tuso-Sierra.jpg\"/><span class=\"et_pb_extra_overlay\"></span>\n",
      "</a> </div>, <div class=\"header\">\n",
      "<a class=\"featured-image\" href=\"https://www.losirreverentes.com/que-se-abran-las-cartas/\" title=\"Que se abran las cartas\">\n",
      "<img alt=\"Que se abran las cartas\" src=\"https://secureservercdn.net/198.71.233.17/cf8.826.myftpupload.com/wp-content/uploads/2020/08/Expediente-AUV.jpg\"/><span class=\"et_pb_extra_overlay\"></span>\n",
      "</a> </div>, <div class=\"header\">\n",
      "<a class=\"featured-image\" href=\"https://www.losirreverentes.com/constituyente-para-defender-al-estado-de-derecho/\" title=\"Constituyente para defender al Estado de Derecho\">\n",
      "<img alt=\"Constituyente para defender al Estado de Derecho\" src=\"https://secureservercdn.net/198.71.233.17/cf8.826.myftpupload.com/wp-content/uploads/2020/08/Constituyente.jpg\"/><span class=\"et_pb_extra_overlay\"></span>\n",
      "</a> </div>, <div class=\"header\">\n",
      "<a class=\"featured-image\" href=\"https://www.losirreverentes.com/no-se-puede-confiar-en-la-justicia/\" title=\"No se puede confiar en la justicia\">\n",
      "<img alt=\"No se puede confiar en la justicia\" src=\"https://secureservercdn.net/198.71.233.17/cf8.826.myftpupload.com/wp-content/uploads/2020/08/Palacio-de-Justicia.jpg\"/><span class=\"et_pb_extra_overlay\"></span>\n",
      "</a> </div>, <div class=\"header\">\n",
      "<a class=\"featured-image\" href=\"https://www.losirreverentes.com/la-amenaza-del-magistrado-reyes/\" title=\"La amenaza del magistrado Reyes\">\n",
      "<img alt=\"La amenaza del magistrado Reyes\" src=\"https://secureservercdn.net/198.71.233.17/cf8.826.myftpupload.com/wp-content/uploads/2020/08/Desequilibrio.jpg\"/><span class=\"et_pb_extra_overlay\"></span>\n",
      "</a> </div>, <div class=\"header\">\n",
      "<a class=\"featured-image\" href=\"https://www.losirreverentes.com/hasta-ahora-se-dan-cuenta/\" title=\"¿Hasta ahora se dan cuenta?\">\n",
      "<img alt=\"¿Hasta ahora se dan cuenta?\" src=\"https://secureservercdn.net/198.71.233.17/cf8.826.myftpupload.com/wp-content/uploads/2020/08/Farc-ninos.jpg\"/><span class=\"et_pb_extra_overlay\"></span>\n",
      "</a> </div>, <div class=\"header\">\n",
      "<a class=\"featured-image\" href=\"https://www.losirreverentes.com/donde-esta-juan-carlos-montes/\" title=\"¿Dónde está Juan Carlos Montes?\">\n",
      "<img alt=\"¿Dónde está Juan Carlos Montes?\" src=\"https://secureservercdn.net/198.71.233.17/cf8.826.myftpupload.com/wp-content/uploads/2020/08/Gustavo-Petro-Montes.jpg\"/><span class=\"et_pb_extra_overlay\"></span>\n",
      "</a> </div>]\n"
     ]
    }
   ],
   "source": [
    "articles = soup.find('div', attrs={'class':'paginated_content'}).find_all('div', attrs={'class':'header'})\n",
    "print(articles)"
   ]
  },
  {
   "cell_type": "code",
   "execution_count": 9,
   "metadata": {},
   "outputs": [],
   "source": [
    "## Extracción del url y del titulo"
   ]
  },
  {
   "cell_type": "code",
   "execution_count": 10,
   "metadata": {},
   "outputs": [],
   "source": [
    "links_articles = []\n",
    "titles_articles = []\n",
    "for article in articles:\n",
    "    links_articles.append(article.a.get('href'))\n",
    "    titles_articles.append(article.a.get('title'))"
   ]
  },
  {
   "cell_type": "code",
   "execution_count": 11,
   "metadata": {},
   "outputs": [
    {
     "data": {
      "text/plain": [
       "['https://www.losirreverentes.com/la-chuzada-contra-el-presidente-uribe/',\n",
       " 'https://www.losirreverentes.com/por-falta-de-garantias-presidente-uribe-no-presenta-recurso-de-reposicion/',\n",
       " 'https://www.losirreverentes.com/el-asedio/',\n",
       " 'https://www.losirreverentes.com/el-secuestro-de-uribe/',\n",
       " 'https://www.losirreverentes.com/consejo-de-estado-le-quitaria-5-curules-al-partido-verde/',\n",
       " 'https://www.losirreverentes.com/por-que-la-corte-nunca-quiso-oir-al-tuso-sierra/',\n",
       " 'https://www.losirreverentes.com/que-se-abran-las-cartas/',\n",
       " 'https://www.losirreverentes.com/constituyente-para-defender-al-estado-de-derecho/',\n",
       " 'https://www.losirreverentes.com/no-se-puede-confiar-en-la-justicia/',\n",
       " 'https://www.losirreverentes.com/la-amenaza-del-magistrado-reyes/',\n",
       " 'https://www.losirreverentes.com/hasta-ahora-se-dan-cuenta/',\n",
       " 'https://www.losirreverentes.com/donde-esta-juan-carlos-montes/']"
      ]
     },
     "execution_count": 11,
     "metadata": {},
     "output_type": "execute_result"
    }
   ],
   "source": [
    "links_articles"
   ]
  },
  {
   "cell_type": "markdown",
   "metadata": {},
   "source": [
    "## Extracción del texto de cada uno de los articulos"
   ]
  },
  {
   "cell_type": "code",
   "execution_count": 12,
   "metadata": {},
   "outputs": [],
   "source": [
    "def body_extract_for_links(list_of_links): \n",
    "    body_articles = []\n",
    "    for link in list_of_links:\n",
    "        response_for_article = requests.get(link)\n",
    "        print(f'{link}: {response_for_article.status_code}')\n",
    "        soup = BeautifulSoup(response_for_article.text, 'lxml')\n",
    "        body_articles.append(soup.find('div', attrs = {'class':'post-content entry-content'}))\n",
    "    return body_articles\n",
    "    "
   ]
  },
  {
   "cell_type": "code",
   "execution_count": null,
   "metadata": {},
   "outputs": [],
   "source": []
  },
  {
   "cell_type": "code",
   "execution_count": 13,
   "metadata": {},
   "outputs": [],
   "source": [
    "#body = soup_for_article.find('div', attrs={'class':'post-content entry-content'})\n",
    "#body"
   ]
  },
  {
   "cell_type": "markdown",
   "metadata": {},
   "source": [
    "### Extrayendo toda la información\n",
    "EN la pagina de los irreverentes en los articulos, las paginas web son dinamicas y es necesario usar selenium para extraer todos los articulos"
   ]
  },
  {
   "cell_type": "code",
   "execution_count": null,
   "metadata": {},
   "outputs": [
    {
     "name": "stdout",
     "output_type": "stream",
     "text": [
      "https://www.losirreverentes.com/la-chuzada-contra-el-presidente-uribe/:200\n",
      "https://www.losirreverentes.com/por-falta-de-garantias-presidente-uribe-no-presenta-recurso-de-reposicion/:200\n",
      "https://www.losirreverentes.com/el-asedio/:200\n",
      "https://www.losirreverentes.com/el-secuestro-de-uribe/:200\n",
      "https://www.losirreverentes.com/consejo-de-estado-le-quitaria-5-curules-al-partido-verde/:200\n",
      "https://www.losirreverentes.com/por-que-la-corte-nunca-quiso-oir-al-tuso-sierra/:200\n",
      "https://www.losirreverentes.com/que-se-abran-las-cartas/:200\n",
      "https://www.losirreverentes.com/constituyente-para-defender-al-estado-de-derecho/:200\n",
      "https://www.losirreverentes.com/no-se-puede-confiar-en-la-justicia/:200\n",
      "https://www.losirreverentes.com/la-amenaza-del-magistrado-reyes/:200\n"
     ]
    }
   ],
   "source": [
    "body_articles = body_extract_for_links(links_articles)"
   ]
  },
  {
   "cell_type": "markdown",
   "metadata": {},
   "source": [
    "## Data Wrangling"
   ]
  },
  {
   "cell_type": "code",
   "execution_count": null,
   "metadata": {},
   "outputs": [],
   "source": [
    "import pandas as pd\n",
    "\n",
    "los_irreverentes = pd.DataFrame({'body': body_articles,'title': titles_articles, 'url': links_articles})\n",
    "los_irreverentes"
   ]
  },
  {
   "cell_type": "code",
   "execution_count": null,
   "metadata": {},
   "outputs": [],
   "source": [
    "los_irreverentes.to_csv('losirreverentes_2020_08_12.csv')"
   ]
  },
  {
   "cell_type": "code",
   "execution_count": null,
   "metadata": {},
   "outputs": [],
   "source": []
  },
  {
   "cell_type": "code",
   "execution_count": null,
   "metadata": {},
   "outputs": [],
   "source": []
  }
 ],
 "metadata": {
  "kernelspec": {
   "display_name": "Python 3",
   "language": "python",
   "name": "python3"
  },
  "language_info": {
   "codemirror_mode": {
    "name": "ipython",
    "version": 3
   },
   "file_extension": ".py",
   "mimetype": "text/x-python",
   "name": "python",
   "nbconvert_exporter": "python",
   "pygments_lexer": "ipython3",
   "version": "3.7.6"
  }
 },
 "nbformat": 4,
 "nbformat_minor": 4
}

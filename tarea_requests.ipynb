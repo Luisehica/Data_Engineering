{
 "cells": [
  {
   "cell_type": "code",
   "execution_count": 1,
   "metadata": {},
   "outputs": [],
   "source": [
    "import requests"
   ]
  },
  {
   "cell_type": "markdown",
   "metadata": {},
   "source": [
    "## Solicitud a la web"
   ]
  },
  {
   "cell_type": "code",
   "execution_count": 2,
   "metadata": {},
   "outputs": [],
   "source": [
    "response = requests.get('https://www.eltiempo.com/salud/coronavirus-en-colombia-el-pais-llego-a-10-000-muertes-por-covid-19-524670')"
   ]
  },
  {
   "cell_type": "code",
   "execution_count": 3,
   "metadata": {},
   "outputs": [
    {
     "name": "stdout",
     "output_type": "stream",
     "text": [
      "200\n"
     ]
    }
   ],
   "source": [
    "print(response.status_code)"
   ]
  },
  {
   "cell_type": "code",
   "execution_count": 4,
   "metadata": {},
   "outputs": [
    {
     "name": "stdout",
     "output_type": "stream",
     "text": [
      "{'Server': 'nginx/1.10.2', 'Content-Type': 'text/html; charset=UTF-8', 'X-Cache-Tags': 'page-524670', 'X-Server': 'etm20', 'x-url': '/salud/coronavirus-en-colombia-el-pais-llego-a-10-000-muertes-por-covid-19-524670', 'x-frame-options': 'sameorigin', 'X-Cacheable': 'YES', 'X-Varnish': '73056815 66075027', 'X-sc': 'xf2', 'Content-Encoding': 'gzip', 'X-CDN': 'Incapsula', 'X-Iinfo': '8-74668438-74668494 SNNy RT(1596301442815 3372) q(0 0 0 0) r(1 1) U5', 'X-Akamai-Transformed': '9 - 0 pmb=mRUM,1', 'Cache-Control': 'private, max-age=120', 'Expires': 'Sat, 01 Aug 2020 17:16:50 GMT', 'Date': 'Sat, 01 Aug 2020 17:14:50 GMT', 'Content-Length': '39323', 'Connection': 'keep-alive', 'Vary': 'Accept-Encoding', 'Server-Timing': 'cdn-cache; desc=HIT, edge; dur=1', 'version': 'desktop'}\n"
     ]
    }
   ],
   "source": [
    "print(response.headers)"
   ]
  },
  {
   "cell_type": "markdown",
   "metadata": {},
   "source": [
    "## Extracción de información del HTML"
   ]
  },
  {
   "cell_type": "code",
   "execution_count": 5,
   "metadata": {},
   "outputs": [],
   "source": [
    "import bs4\n",
    "\n",
    "soup = bs4.BeautifulSoup(response.text, 'html.parser')"
   ]
  },
  {
   "cell_type": "code",
   "execution_count": 6,
   "metadata": {},
   "outputs": [
    {
     "name": "stdout",
     "output_type": "stream",
     "text": [
      "[<meta content=\"Diez mil muertos son casi la mitad de víctimas de Armero. Ejemplos sobre la magnitud de la pandemia. | Salud | ElTiempo.com\" name=\"description\"/>]\n"
     ]
    }
   ],
   "source": [
    "print(soup.select('meta[name=description]'))"
   ]
  },
  {
   "cell_type": "code",
   "execution_count": null,
   "metadata": {},
   "outputs": [],
   "source": []
  }
 ],
 "metadata": {
  "kernelspec": {
   "display_name": "Python 3",
   "language": "python",
   "name": "python3"
  },
  "language_info": {
   "codemirror_mode": {
    "name": "ipython",
    "version": 3
   },
   "file_extension": ".py",
   "mimetype": "text/x-python",
   "name": "python",
   "nbconvert_exporter": "python",
   "pygments_lexer": "ipython3",
   "version": "3.7.6"
  }
 },
 "nbformat": 4,
 "nbformat_minor": 4
}
